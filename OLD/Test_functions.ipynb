{
 "metadata": {
  "name": ""
 },
 "nbformat": 3,
 "nbformat_minor": 0,
 "worksheets": [
  {
   "cells": [
    {
     "cell_type": "code",
     "collapsed": false,
     "input": [
      "def GetElementGroupPeriod(z):\n",
      "    if z == 0:\n",
      "        print('Error: the atomic number is less than one (Z<1)\\nProgram Exit ):')\n",
      "        exit(0)\n",
      "    ElementOrder = [2, 8, 8, 18, 18, 36, 36]\n",
      "    Period = 1\n",
      "    Group  = 0\n",
      "    for i in range(len(ElementOrder)):\n",
      "        if Group < z - ElementOrder[i]:\n",
      "            Group  += ElementOrder[i]\n",
      "            Period += 1\n",
      "    Group = z - Group\n",
      "    return(Group, Period)\n",
      "\n",
      "for i in range(92):\n",
      "    G, P = GetElementGroupPeriod(i + 1)\n",
      "    #print(i + 1, \"  Group: \", G, \"  Period: \", P)"
     ],
     "language": "python",
     "metadata": {},
     "outputs": [],
     "prompt_number": 2
    },
    {
     "cell_type": "code",
     "collapsed": false,
     "input": [],
     "language": "python",
     "metadata": {},
     "outputs": []
    }
   ],
   "metadata": {}
  }
 ]
}