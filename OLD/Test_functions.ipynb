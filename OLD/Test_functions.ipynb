{
 "metadata": {
  "name": ""
 },
 "nbformat": 3,
 "nbformat_minor": 0,
 "worksheets": [
  {
   "cells": [
    {
     "cell_type": "code",
     "collapsed": false,
     "input": [
      "def GetElementGroupPeriod(z):\n",
      "    if z == 0:\n",
      "        print('Error: the atomic number is less than one (Z<1)\\nProgram Exit ):')\n",
      "        exit(0)\n",
      "    ElementOrder = [2, 8, 8, 18, 18, 36, 36]\n",
      "    Period = 1\n",
      "    Group  = 0\n",
      "    for i in range(len(ElementOrder)):\n",
      "        if Group < z - ElementOrder[i]:\n",
      "            Group  += ElementOrder[i]\n",
      "            Period += 1\n",
      "    Group = z - Group\n",
      "    return(Group, Period)\n",
      "\n",
      "for i in range(92):\n",
      "    G, P = GetElementGroupPeriod(i + 1)\n",
      "    #print(i + 1, \"  Group: \", G, \"  Period: \", P)"
     ],
     "language": "python",
     "metadata": {},
     "outputs": [],
     "prompt_number": 1
    },
    {
     "cell_type": "code",
     "collapsed": false,
     "input": [
      "import numpy as np\n",
      "\n",
      "A = np.matrix('1 2 3; 4 5 6; 7 8 9')\n",
      "B = np.matrix('-1.46 0.67; 0.67 -0.41')\n",
      "eW, eV = np.linalg.eig(B)\n",
      "print(eW)\n",
      "print(eV)"
     ],
     "language": "python",
     "metadata": {},
     "outputs": [
      {
       "output_type": "stream",
       "stream": "stdout",
       "text": [
        "[-1.78619034 -0.08380966]\n",
        "[[-0.89910603 -0.4377309 ]\n",
        " [ 0.4377309  -0.89910603]]\n"
       ]
      }
     ],
     "prompt_number": 4
    },
    {
     "cell_type": "code",
     "collapsed": false,
     "input": [
      "import numpy as np\n",
      "\n",
      "A = np.arange(4)\n",
      "print(A)\n",
      "B = np.linalg.norm(A)\n",
      "print(B)\n",
      "\n",
      "C = np.dot(A, A)\n",
      "print(C)\n"
     ],
     "language": "python",
     "metadata": {},
     "outputs": [
      {
       "output_type": "stream",
       "stream": "stdout",
       "text": [
        "[0 1 2 3]\n",
        "3.74165738677\n",
        "14\n"
       ]
      }
     ],
     "prompt_number": 7
    },
    {
     "cell_type": "code",
     "collapsed": false,
     "input": [
      "import numpy as np\n",
      "\n",
      "A = np.identity(3)\n",
      "print(A)\n",
      "B = np.transpose(np.arange(4)[1:])\n",
      "print(B)\n",
      "\n",
      "C = B * A\n",
      "print(C)"
     ],
     "language": "python",
     "metadata": {},
     "outputs": [
      {
       "output_type": "stream",
       "stream": "stdout",
       "text": [
        "[[ 1.  0.  0.]\n",
        " [ 0.  1.  0.]\n",
        " [ 0.  0.  1.]]\n",
        "[1 2 3]\n",
        "[[ 1.  0.  0.]\n",
        " [ 0.  2.  0.]\n",
        " [ 0.  0.  3.]]\n"
       ]
      }
     ],
     "prompt_number": 12
    },
    {
     "cell_type": "code",
     "collapsed": false,
     "input": [],
     "language": "python",
     "metadata": {},
     "outputs": []
    }
   ],
   "metadata": {}
  }
 ]
}